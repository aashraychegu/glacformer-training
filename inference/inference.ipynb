{
 "cells": [
  {
   "cell_type": "code",
   "execution_count": null,
   "metadata": {},
   "outputs": [],
   "source": [
    "import transformers\n",
    "from transformers import AutoModel, AutoImageProcessor\n",
    "from transformers import pipeline\n",
    "from transformers import SegformerImageProcessor, SegformerForSemanticSegmentation, BaseImageProcessor\n",
    "import numpy\n",
    "import pathlib as pl\n",
    "import PIL \n",
    "import datasets\n",
    "import matplotlib.pyplot as plt\n",
    "import numpy as np"
   ]
  },
  {
   "cell_type": "code",
   "execution_count": null,
   "metadata": {},
   "outputs": [],
   "source": [
    "image_processor = SegformerImageProcessor.from_json_file(\"./sip/preprocessor_config.json\")\n",
    "model = SegformerForSemanticSegmentation.from_pretrained(\"glacierscopessegmentation/glacier_segmentation_transformer\")\n",
    "data_path = pl.Path(\"./inference_dataset/inference_dataset.hf/\")\n",
    "ds = datasets.load_from_disk(data_path)\n",
    "segmenter = pipeline(task=\"image-segmentation\",image_processor=image_processor,model = model,device = \"cuda:0\")"
   ]
  },
  {
   "cell_type": "code",
   "execution_count": null,
   "metadata": {},
   "outputs": [],
   "source": [
    "for i in ds:\n",
    "    segments = segmenter(i[\"image\"])\n",
    "    red = np.array(segments[0][\"mask\"].convert(\"L\"))\n",
    "    green = np.array(segments[2][\"mask\"].convert(\"L\"))\n",
    "    blue = np.array(segments[1][\"mask\"].convert(\"L\"))\n",
    "    combo = np.stack([red, green, blue]).transpose(1,2,0)/255\n",
    "    base = np.array(i[\"image\"].convert(\"L\"))\n",
    "    base = np.stack([base,base,base]).transpose(1,2,0)/255\n",
    "    f, (ax1, ax2) = plt.subplots(1, 2, sharey=True)\n",
    "    ax1.imshow(combo)\n",
    "    ax2.imshow(base)\n",
    "    plt.show()"
   ]
  }
 ],
 "metadata": {
  "kernelspec": {
   "display_name": "Python 3",
   "language": "python",
   "name": "python3"
  },
  "language_info": {
   "codemirror_mode": {
    "name": "ipython",
    "version": 3
   },
   "file_extension": ".py",
   "mimetype": "text/x-python",
   "name": "python",
   "nbconvert_exporter": "python",
   "pygments_lexer": "ipython3",
   "version": "3.12.1"
  },
  "orig_nbformat": 4
 },
 "nbformat": 4,
 "nbformat_minor": 2
}
