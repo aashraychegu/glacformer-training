{
 "cells": [
  {
   "cell_type": "code",
   "execution_count": null,
   "metadata": {},
   "outputs": [],
   "source": [
    "import transformers\n",
    "from transformers import AutoModel, AutoImageProcessor\n",
    "from transformers import pipeline\n",
    "from transformers import SegformerImageProcessor, SegformerForSemanticSegmentation, BaseImageProcessor\n",
    "import numpy\n",
    "import pathlib as pl\n",
    "import PIL \n",
    "import datasets\n",
    "from datasets import Dataset\n",
    "import matplotlib.pyplot as plt\n",
    "import numpy as np"
   ]
  },
  {
   "cell_type": "code",
   "execution_count": null,
   "metadata": {},
   "outputs": [],
   "source": [
    "image_processor = SegformerImageProcessor.from_json_file(\"./sip/preprocessor_config.json\")\n",
    "model = SegformerForSemanticSegmentation.from_pretrained(\"glacierscopessegmentation/glacier_segmentation_transformer\")\n",
    "data_path = pl.Path(\"./inference_dataset/inference_dataset.hf/\")\n",
    "segmenter = pipeline(task=\"image-segmentation\",image_processor=image_processor,model = model,device = \"cuda:0\")"
   ]
  },
  {
   "cell_type": "code",
   "execution_count": null,
   "metadata": {},
   "outputs": [],
   "source": [
    "from datasets import disable_caching\n",
    "import datasets\n",
    "import os\n",
    "os.system(\"export HF_DATASETS_CACHE=/home/groups/dustinms/aashrayc/.cache\")\n",
    "os.system('export HF_HOME=\"/home/groups/dustinms/aashrayc/.cache\"')\n",
    "os.system('export HF_DATASETS_CACHE=\"/home/groups/dustinms/aashrayc/.cache\"')\n",
    "os.environ[\"HF_DATASETS_CACHE\"] = \"/home/groups/dustinms/aashrayc/.cache\"\n",
    "os.environ[\"HF_HOME\"] = \"/home/groups/dustinms/aashrayc/.cache\"\n",
    "os.environ[\"HF_DATASETS_CACHE\"] = \"/home/groups/dustinms/aashrayc/.cache\"\n",
    "\n",
    "disable_caching()\n",
    "ds = datasets.load_dataset(\"glacierscopessegmentation/scopes_test\",download_config=datasets.DownloadConfig(delete_extracted=True,extract_on_the_fly=True, cache_dir = \"/home/groups/dustinms/aashrayc/.cache/\"), cache_dir=\"/home/groups/dustinms/aashrayc/.cache/\")  \n",
    "newds = datasets.load_from_disk(data_path)\n"
   ]
  },
  {
   "cell_type": "code",
   "execution_count": null,
   "metadata": {},
   "outputs": [],
   "source": [
    "for c, i in enumerate(ds[\"train\"]):\n",
    "    segments = segmenter(i[\"image\"])\n",
    "    red = np.array(segments[0][\"mask\"].convert(\"L\"))\n",
    "    green = np.array(segments[2][\"mask\"].convert(\"L\"))\n",
    "    blue = np.array(segments[1][\"mask\"].convert(\"L\"))\n",
    "    combo = np.stack([red, green, blue]).transpose(1,2,0)/255\n",
    "\n",
    "    f, (ax1, ax2, ax3) = plt.subplots(1, 3, sharey=True, figsize = (18,6))\n",
    "\n",
    "    img1 = ax1.imshow(combo)\n",
    "    img2 = ax2.imshow(i[\"image\"])\n",
    "    img3 = ax3.imshow(np.array(i[\"label\"])*80)\n",
    "    plt.colorbar(img1)\n",
    "    plt.colorbar(img2)\n",
    "    plt.colorbar(img3)\n",
    "    plt.show()\n",
    "    if c > 10: break"
   ]
  },
  {
   "cell_type": "code",
   "execution_count": null,
   "metadata": {},
   "outputs": [],
   "source": [
    "for c, i in enumerate(newds):\n",
    "    segments = segmenter(i[\"image\"])\n",
    "    red = np.array(segments[0][\"mask\"].convert(\"L\"))\n",
    "    green = np.array(segments[2][\"mask\"].convert(\"L\"))\n",
    "    blue = np.array(segments[1][\"mask\"].convert(\"L\"))\n",
    "    combo = np.stack([red, green, blue]).transpose(1,2,0)/255\n",
    "    base = np.array(i[\"image\"])\n",
    "    f, (ax1, ax2) = plt.subplots(1, 2, sharey=True, figsize = (18,9))\n",
    "    img1 = ax1.imshow(combo)\n",
    "    img2 = ax2.imshow(base)\n",
    "    plt.colorbar(img1)\n",
    "    plt.colorbar(img2)\n",
    "    plt.show()\n",
    "    print(c)\n"
   ]
  }
 ],
 "metadata": {
  "kernelspec": {
   "display_name": "Python 3",
   "language": "python",
   "name": "python3"
  },
  "language_info": {
   "codemirror_mode": {
    "name": "ipython",
    "version": 3
   },
   "file_extension": ".py",
   "mimetype": "text/x-python",
   "name": "python",
   "nbconvert_exporter": "python",
   "pygments_lexer": "ipython3",
   "version": "3.12.1"
  },
  "orig_nbformat": 4
 },
 "nbformat": 4,
 "nbformat_minor": 2
}
